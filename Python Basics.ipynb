{
 "cells": [
  {
   "cell_type": "code",
   "execution_count": null,
   "metadata": {},
   "outputs": [],
   "source": [
    "name= \"Naman Agarwal\"\n",
    "age=20\n",
    "o_patient= True\n",
    "print(name ,age, o_patient)"
   ]
  },
  {
   "cell_type": "markdown",
   "metadata": {},
   "source": [
    "## Using Input function python3 has input() while python2 has raw_input()"
   ]
  },
  {
   "cell_type": "code",
   "execution_count": 2,
   "metadata": {},
   "outputs": [
    {
     "name": "stdout",
     "output_type": "stream",
     "text": [
      "What is your name? Naman\n",
      "What is your favorite color? Blue\n",
      "Naman likes Blue\n"
     ]
    }
   ],
   "source": [
    "name=input(\"What is your name? \")\n",
    "color=input(\"What is your favorite color? \")\n",
    "print(name +\" likes \"+ color)"
   ]
  },
  {
   "cell_type": "markdown",
   "metadata": {},
   "source": [
    "## TYPE CASTING"
   ]
  },
  {
   "cell_type": "code",
   "execution_count": 3,
   "metadata": {},
   "outputs": [
    {
     "name": "stdout",
     "output_type": "stream",
     "text": [
      "Enter your year of birth 1997\n",
      "22\n"
     ]
    }
   ],
   "source": [
    "birth_year=input(\"Enter your year of birth \")\n",
    "age= 2019-int(birth_year)\n",
    "print(age)"
   ]
  },
  {
   "cell_type": "markdown",
   "metadata": {},
   "source": [
    "## Multiple line para"
   ]
  },
  {
   "cell_type": "code",
   "execution_count": 4,
   "metadata": {},
   "outputs": [
    {
     "name": "stdout",
     "output_type": "stream",
     "text": [
      "hi \n",
      "my name is Naman\n",
      "Computer Engineering \n"
     ]
    }
   ],
   "source": [
    "naman='''hi \n",
    "my name is Naman\n",
    "Computer Engineering '''\n",
    "print(naman)"
   ]
  },
  {
   "cell_type": "code",
   "execution_count": 5,
   "metadata": {},
   "outputs": [
    {
     "name": "stdout",
     "output_type": "stream",
     "text": [
      "N Nam NamanAgarwal w am amanAgarw\n"
     ]
    }
   ],
   "source": [
    "name=\"NamanAgarwal\"\n",
    "print(name[0] ,name[0:3], name[0:] ,name[-3] ,name[1:3],name[1:-2])"
   ]
  },
  {
   "cell_type": "markdown",
   "metadata": {},
   "source": [
    "## Formatted strings (works in python3)"
   ]
  },
  {
   "cell_type": "code",
   "execution_count": 6,
   "metadata": {},
   "outputs": [
    {
     "name": "stdout",
     "output_type": "stream",
     "text": [
      "Naman Agarwal\n"
     ]
    }
   ],
   "source": [
    "f_name=\"Naman\"\n",
    "l_name=\"Agarwal\"\n",
    "fullname=f'{f_name} {l_name}'\n",
    "print(fullname)"
   ]
  },
  {
   "cell_type": "markdown",
   "metadata": {},
   "source": [
    "## String methods"
   ]
  },
  {
   "cell_type": "code",
   "execution_count": 7,
   "metadata": {},
   "outputs": [
    {
     "name": "stdout",
     "output_type": "stream",
     "text": [
      "11\n",
      "YOU CAN WIN\n",
      "C is at 4 index\n",
      "you WILL Win\n",
      "True\n",
      "False\n"
     ]
    }
   ],
   "source": [
    "title= \"you CAN Win\"\n",
    "print(len(title))\n",
    "print(title.upper())\n",
    "print(\"C is at \" + str(title.find('C')) + \" index\")\n",
    "print(title.replace(\"CAN\",\"WILL\"))\n",
    "print('CAN' in title)\n",
    "print('can' in title)"
   ]
  },
  {
   "cell_type": "markdown",
   "metadata": {},
   "source": [
    "## Arithmatic Operations"
   ]
  },
  {
   "cell_type": "code",
   "execution_count": 8,
   "metadata": {},
   "outputs": [
    {
     "name": "stdout",
     "output_type": "stream",
     "text": [
      "3.3333333333333335\n",
      "3\n",
      "30\n",
      "1000\n"
     ]
    }
   ],
   "source": [
    "a=10\n",
    "b=3\n",
    "print(a/b) # give the float result\n",
    "print(a//b) #floor the float value\n",
    "print(a*b)\n",
    "print(a**b) #a^b"
   ]
  },
  {
   "cell_type": "markdown",
   "metadata": {},
   "source": [
    "## Precedence of operator\n",
    "##### a**b\n",
    "##### BODMAS"
   ]
  },
  {
   "cell_type": "markdown",
   "metadata": {},
   "source": [
    "## if else statement"
   ]
  },
  {
   "cell_type": "code",
   "execution_count": 9,
   "metadata": {},
   "outputs": [
    {
     "name": "stdout",
     "output_type": "stream",
     "text": [
      "COLD DAY\n",
      "HAVE A NICE DAY\n"
     ]
    }
   ],
   "source": [
    "is_hot=False\n",
    "is_warm=False\n",
    "is_cold=True\n",
    "is_chill=False\n",
    "\n",
    "if is_hot or is_warm:\n",
    "    print(\"HOT DAY\")\n",
    "elif is_cold and not is_chill:\n",
    "    print(\"COLD DAY\")\n",
    "else:\n",
    "    print(\"GOOD DAY\")\n",
    "    \n",
    "print(\"HAVE A NICE DAY\")"
   ]
  },
  {
   "cell_type": "markdown",
   "metadata": {},
   "source": [
    "## Weight Converter"
   ]
  },
  {
   "cell_type": "code",
   "execution_count": 10,
   "metadata": {},
   "outputs": [
    {
     "name": "stdout",
     "output_type": "stream",
     "text": [
      "Enter your weight: 85\n",
      "(L)bs or (K)g k\n",
      "187.00000000000003\n"
     ]
    }
   ],
   "source": [
    "weight=input(\"Enter your weight: \")\n",
    "wt=input(\"(L)bs or (K)g \")\n",
    "if(wt==\"l\" or wt==\"L\"):\n",
    "    weight=float(weight)*0.45\n",
    "    print(weight)\n",
    "elif(wt==\"k\" or wt==\"K\"):\n",
    "    weight=float(weight)*2.2\n",
    "    print(weight)\n",
    "else:\n",
    "    print('Invalid Input')"
   ]
  },
  {
   "cell_type": "markdown",
   "metadata": {},
   "source": [
    "## While loop"
   ]
  },
  {
   "cell_type": "code",
   "execution_count": 11,
   "metadata": {},
   "outputs": [
    {
     "name": "stdout",
     "output_type": "stream",
     "text": [
      "Guess: 8\n",
      "You Won!\n"
     ]
    }
   ],
   "source": [
    "secret_number=8\n",
    "guess_limit=3\n",
    "i=0\n",
    "while(i<guess_limit):\n",
    "    guess_no=int(input(\"Guess: \"))\n",
    "    i+=1\n",
    "    if guess_no==secret_number:\n",
    "        print(\"You Won!\")\n",
    "        break\n",
    "else:\n",
    "    print(\"You loose\")"
   ]
  },
  {
   "cell_type": "markdown",
   "metadata": {},
   "source": [
    "## TIP: Follow DRY- Don't Repeat yourself"
   ]
  },
  {
   "cell_type": "markdown",
   "metadata": {},
   "source": [
    "## For Loop"
   ]
  },
  {
   "cell_type": "code",
   "execution_count": 13,
   "metadata": {},
   "outputs": [
    {
     "name": "stdout",
     "output_type": "stream",
     "text": [
      "P\n",
      "y\n",
      "t\n",
      "h\n",
      "o\n",
      "n\n"
     ]
    }
   ],
   "source": [
    "for item in \"Python\":\n",
    "    print (item)"
   ]
  },
  {
   "cell_type": "code",
   "execution_count": 14,
   "metadata": {},
   "outputs": [
    {
     "name": "stdout",
     "output_type": "stream",
     "text": [
      "0\n",
      "1\n",
      "2\n",
      "3\n",
      "4\n",
      "5\n",
      "6\n",
      "7\n",
      "8\n",
      "9\n"
     ]
    }
   ],
   "source": [
    "for item in range(10):\n",
    "    print(item)"
   ]
  },
  {
   "cell_type": "code",
   "execution_count": 15,
   "metadata": {},
   "outputs": [
    {
     "name": "stdout",
     "output_type": "stream",
     "text": [
      "5\n",
      "6\n",
      "7\n",
      "8\n",
      "9\n"
     ]
    }
   ],
   "source": [
    "for item in range(5,10):\n",
    "    print(item)"
   ]
  },
  {
   "cell_type": "code",
   "execution_count": 17,
   "metadata": {},
   "outputs": [
    {
     "name": "stdout",
     "output_type": "stream",
     "text": [
      "1\n",
      "3\n",
      "5\n",
      "7\n",
      "9\n"
     ]
    }
   ],
   "source": [
    "for item in range(1,10,2): #range function range(start value(not necessary), end value+1, skip(not necessary))\n",
    "    print(item)\n",
    "    "
   ]
  },
  {
   "cell_type": "markdown",
   "metadata": {},
   "source": [
    "## LISTS"
   ]
  },
  {
   "cell_type": "code",
   "execution_count": 24,
   "metadata": {},
   "outputs": [
    {
     "name": "stdout",
     "output_type": "stream",
     "text": [
      "Total=6\n"
     ]
    }
   ],
   "source": [
    "prices=[1,2,3]\n",
    "t=0\n",
    "for total in prices:\n",
    "    t+=total;\n",
    "print(f\"Total={t}\")"
   ]
  },
  {
   "cell_type": "code",
   "execution_count": 32,
   "metadata": {},
   "outputs": [
    {
     "name": "stdout",
     "output_type": "stream",
     "text": [
      "XXXXX\n",
      "XX\n",
      "XXXXX\n",
      "XX\n",
      "XX\n"
     ]
    }
   ],
   "source": [
    "str=[5,2,5,2,2]\n",
    "for i in str:\n",
    "    print(\"X\" *i)"
   ]
  },
  {
   "cell_type": "markdown",
   "metadata": {},
   "source": [
    "## Alternative of above code"
   ]
  },
  {
   "cell_type": "code",
   "execution_count": 37,
   "metadata": {},
   "outputs": [
    {
     "name": "stdout",
     "output_type": "stream",
     "text": [
      "XXXXX\n",
      "XX\n",
      "XXXXX\n",
      "XX\n",
      "XX\n"
     ]
    }
   ],
   "source": [
    "str=[5,2,5,2,2]\n",
    "for i in str:\n",
    "    out=\"\"\n",
    "    for j in range(i):\n",
    "        out+=\"X\"\n",
    "    print(out)"
   ]
  },
  {
   "cell_type": "code",
   "execution_count": 39,
   "metadata": {},
   "outputs": [
    {
     "name": "stdout",
     "output_type": "stream",
     "text": [
      "['Naman', 'Bharat', 'Vighnesh', 'Manish', 'Manjeet']\n",
      "['Naman', 'Bharat', 'Vighnesh', 'Manish', 'Manju']\n"
     ]
    }
   ],
   "source": [
    "names=['Naman','Bharat','Vighnesh','Manish','Manjeet']\n",
    "print(names)\n",
    "names[4]=\"Manju\"\n",
    "print(names)"
   ]
  },
  {
   "cell_type": "code",
   "execution_count": 47,
   "metadata": {},
   "outputs": [
    {
     "name": "stdout",
     "output_type": "stream",
     "text": [
      "122\n"
     ]
    }
   ],
   "source": [
    "numbers=[7,8,4,94,76,34,122,98]\n",
    "max=-99\n",
    "for large in numbers:\n",
    "    if(large>max):\n",
    "        max=large\n",
    "print(max)"
   ]
  },
  {
   "cell_type": "markdown",
   "metadata": {},
   "source": [
    "## 2D List"
   ]
  },
  {
   "cell_type": "code",
   "execution_count": 51,
   "metadata": {},
   "outputs": [
    {
     "name": "stdout",
     "output_type": "stream",
     "text": [
      "[[1, 2, 3], [4, 5, 6], [7, 8, 9]]\n",
      "3\n"
     ]
    }
   ],
   "source": [
    "matrix=[[1,2,3],\n",
    "        [4,5,6],\n",
    "        [7,8,9]]\n",
    "print(matrix)\n",
    "print(matrix[0][2])"
   ]
  },
  {
   "cell_type": "markdown",
   "metadata": {},
   "source": [
    "## Operations on list"
   ]
  },
  {
   "cell_type": "code",
   "execution_count": 82,
   "metadata": {},
   "outputs": [
    {
     "name": "stdout",
     "output_type": "stream",
     "text": [
      "2\n",
      "11\n",
      "True\n",
      "False\n",
      "count  2\n",
      "num  []\n",
      "num2 [21, 10, 7, 5, 5, 4, 2, 1]\n"
     ]
    }
   ],
   "source": [
    "num=[1,4,3,10,5,2,5,7]\n",
    "num.append(11) #add element at the end of list\n",
    "num.insert(2,21) #inser(index,value to be inserted)\n",
    "num.remove(3)\n",
    "num2=num.copy()\n",
    "num.clear()\n",
    "print(num2.index(21)) #prints the index of the passed value\n",
    "print(num2.pop()) #returns the value popped from end of list\n",
    "print(1 in num2)\n",
    "print(32 in num2 ) #returns the availability of the object in boolean format \n",
    "print(\"count \",num2.count(5))\n",
    "num2.sort()#sort in asc order\n",
    "num2.reverse()#reverse the list\n",
    "\n",
    "print(\"num \",num)\n",
    "print(\"num2\",num2)"
   ]
  },
  {
   "cell_type": "markdown",
   "metadata": {},
   "source": [
    "## Code to remove duplicate entries in a list"
   ]
  },
  {
   "cell_type": "code",
   "execution_count": 84,
   "metadata": {},
   "outputs": [
    {
     "name": "stdout",
     "output_type": "stream",
     "text": [
      "[1, 2, 3, 4, 5]\n"
     ]
    }
   ],
   "source": [
    "dup=[1,2,3,1,3,4,3,4,5]\n",
    "unique=[]\n",
    "for i in dup:\n",
    "    if i not in unique:\n",
    "        unique.append(i)\n",
    "print(unique)\n",
    "\n"
   ]
  },
  {
   "cell_type": "markdown",
   "metadata": {},
   "source": [
    "## Unpacking"
   ]
  },
  {
   "cell_type": "code",
   "execution_count": 3,
   "metadata": {},
   "outputs": [
    {
     "name": "stdout",
     "output_type": "stream",
     "text": [
      "Tuple Unpacking:  6\n",
      "List Unpacking:  240\n"
     ]
    }
   ],
   "source": [
    "tuple=(1,2,3)\n",
    "list=[10,4,6]\n",
    "x,y,z=tuple #this is unpacking we can do it similarly in list also\n",
    "a,b,c=list\n",
    "t=x*y*z\n",
    "p=a*b*c\n",
    "print(\"Tuple Unpacking: \", t)\n",
    "print(\"List Unpacking: \", p)\n",
    "\n"
   ]
  },
  {
   "cell_type": "code",
   "execution_count": 17,
   "metadata": {},
   "outputs": [
    {
     "name": "stdout",
     "output_type": "stream",
     "text": [
      "['Manju', 'Vighnesh', 'Bharat', 'Vaibhav', 'Arjun']\n",
      "Naman Agarwal\n",
      "3348\n",
      "{'name': 'Naman Agarwal', 'college': 'AIT', 'branch': 'CE', 'Rno': 3348, 'friends': ['Manju', 'Vighnesh', 'Bharat', 'Vaibhav', 'Arjun'], 'weight': 85}\n"
     ]
    }
   ],
   "source": [
    "dict={\"name\":\"Naman Agarwal\",\n",
    "      \"college\":\"AIT\",\n",
    "      \"branch\":\"CE\",\n",
    "      \"Rno\":3348,\n",
    "      \"friends\":[\"Manju\",\"Vighnesh\",\"Bharat\",\"Vaibhav\",\"Arjun\"]\n",
    "     }\n",
    "print(dict[\"friends\"])\n",
    "print(dict.get(\"name\")) #alternate method if key not found no abrupt error\n",
    "print(dict[\"Rno\"])\n",
    "dict[\"weight\"]=85# adding key value \n",
    "print(dict)"
   ]
  },
  {
   "cell_type": "code",
   "execution_count": 50,
   "metadata": {},
   "outputs": [
    {
     "name": "stdout",
     "output_type": "stream",
     "text": [
      "Enter phone number: 234\n",
      "Two Three Four \n"
     ]
    }
   ],
   "source": [
    "pno={\"0\":\"Zero\",\n",
    "     \"1\":\"One\",\n",
    "     \"2\":\"Two\",\n",
    "     \"3\":\"Three\",\n",
    "     \"4\":\"Four\",\n",
    "     \"5\":\"Five\",\n",
    "     \"6\":\"Six\",\n",
    "     \"7\":\"Seven\",\n",
    "     \"8\":\"Eight\",\n",
    "     \"9\":\"Nine\"\n",
    "    }\n",
    "num=str(input(\"Enter phone number: \"))\n",
    "h=\"\"\n",
    "for i in num:\n",
    "    t=str(i)\n",
    "    for k in pno:\n",
    "        if(t==k):\n",
    "             h+=pno[t]+\" \"   \n",
    "print(h)    "
   ]
  },
  {
   "cell_type": "code",
   "execution_count": 54,
   "metadata": {},
   "outputs": [
    {
     "name": "stdout",
     "output_type": "stream",
     "text": [
      "Enter phone number: 123\n",
      "<class 'str'>\n"
     ]
    }
   ],
   "source": [
    "pno={\"0\":\"Zero\",\n",
    "     \"1\":\"One\",\n",
    "     \"2\":\"Two\",\n",
    "     \"3\":\"Three\",\n",
    "     \"4\":\"Four\",\n",
    "     \"5\":\"Five\",\n",
    "     \"6\":\"Six\",\n",
    "     \"7\":\"Seven\",\n",
    "     \"8\":\"Eight\",\n",
    "     \"9\":\"Nine\"\n",
    "    }\n",
    "num=input(\"Enter phone number: \")\n",
    "print(type(num))"
   ]
  },
  {
   "cell_type": "markdown",
   "metadata": {},
   "source": [
    "## Function"
   ]
  },
  {
   "cell_type": "code",
   "execution_count": 66,
   "metadata": {},
   "outputs": [
    {
     "name": "stdout",
     "output_type": "stream",
     "text": [
      "0.5\n",
      "2.0\n"
     ]
    }
   ],
   "source": [
    "def cal(a,b):\n",
    "    return a/b\n",
    "print(cal(5,10))\n",
    "print(cal(b=5,a=10)) #keyword argument if arguments are not passed in order"
   ]
  },
  {
   "cell_type": "markdown",
   "metadata": {},
   "source": [
    "## Exception Handling\n"
   ]
  },
  {
   "cell_type": "code",
   "execution_count": null,
   "metadata": {},
   "outputs": [],
   "source": [
    "b=int(input(\"b: \"))\n",
    "c=int(input(\"c: \"))\n",
    "try:\n",
    "    a=b/c\n",
    "    print(a)\n",
    "except ZeroDivisionError:\n",
    "    print(\"Cannot divide by 0\")"
   ]
  },
  {
   "cell_type": "markdown",
   "metadata": {},
   "source": [
    "# NUMPY "
   ]
  },
  {
   "cell_type": "code",
   "execution_count": 1,
   "metadata": {},
   "outputs": [],
   "source": [
    "import numpy as np"
   ]
  },
  {
   "cell_type": "code",
   "execution_count": 6,
   "metadata": {},
   "outputs": [],
   "source": [
    "arr=np.array([1,2,3])"
   ]
  },
  {
   "cell_type": "code",
   "execution_count": 8,
   "metadata": {},
   "outputs": [
    {
     "name": "stdout",
     "output_type": "stream",
     "text": [
      "[1 2 3]\n"
     ]
    }
   ],
   "source": [
    "print(arr)\n"
   ]
  },
  {
   "cell_type": "code",
   "execution_count": null,
   "metadata": {},
   "outputs": [],
   "source": []
  }
 ],
 "metadata": {
  "kernelspec": {
   "display_name": "Python 3",
   "language": "python",
   "name": "python3"
  },
  "language_info": {
   "codemirror_mode": {
    "name": "ipython",
    "version": 3
   },
   "file_extension": ".py",
   "mimetype": "text/x-python",
   "name": "python",
   "nbconvert_exporter": "python",
   "pygments_lexer": "ipython3",
   "version": "3.6.7"
  }
 },
 "nbformat": 4,
 "nbformat_minor": 2
}
